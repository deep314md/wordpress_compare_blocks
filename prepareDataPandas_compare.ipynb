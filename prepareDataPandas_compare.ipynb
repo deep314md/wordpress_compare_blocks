{
 "cells": [
  {
   "cell_type": "code",
   "execution_count": 1,
   "metadata": {
    "tags": []
   },
   "outputs": [],
   "source": [
    "import pandas as pd\n",
    "import numpy as np\n",
    "from jupDeep import *\n",
    "import hashlib\n",
    "\n",
    "\n",
    "'''\n",
    "    we drop the columns we are not working with\n",
    "'''\n",
    "df = pd.read_csv('dataBlock_new.csv')\n",
    "df = df.drop(['elementHeight', 'elementWidth','rap_size'], axis=1)\n",
    "\n",
    "\n",
    "# df.head()"
   ]
  },
  {
   "cell_type": "code",
   "execution_count": null,
   "metadata": {},
   "outputs": [],
   "source": []
  },
  {
   "cell_type": "code",
   "execution_count": 7,
   "metadata": {},
   "outputs": [
    {
     "name": "stdout",
     "output_type": "stream",
     "text": [
      "total = 27\n"
     ]
    }
   ],
   "source": [
    "w = 27\n",
    "h = 27\n",
    "\n",
    "'''\n",
    "    which columns will be divided by how much. If the column has the value None, it will not be divided\n",
    "'''\n",
    "col_div = {\n",
    "           'globalBlockHeight' : h, \n",
    "           'x_orig': w, \n",
    "           'y_orig': h,\n",
    "           'x_end': w,\n",
    "           'y_end': h\n",
    "          }\n",
    "\n",
    "df_new = df.copy()\n",
    "\n",
    "for col_key in col_div:\n",
    "    if col_div[col_key] != None:\n",
    "        df_new[col_key] = df_new[col_key]/col_div[col_key]\n",
    "        df_new[col_key] = df_new[col_key].apply(np.floor)\n",
    "\n",
    "df_new.head()\n",
    "theme_uniq = [ele for ele in df['theme'].unique()]\n",
    "params_uniq = ['x_orig','y_orig', 'x_end', 'y_end', 'type'] # modifica dupa necesitate globalBlockHeight\n",
    "infoBlocks = {}\n",
    "\n",
    "for theme in theme_uniq:\n",
    "    t = df_new[df_new['theme'] == theme]\n",
    "    bl = [ele for ele in t['block'].unique()]\n",
    "\n",
    "    for block in bl:\n",
    "        block_item = t[t['block']== block][params_uniq]\n",
    "        block_item = block_item.values.tolist()\n",
    "        block_item = np.concatenate(block_item).tolist()\n",
    "        block_item = ''.join(str(block_item))\n",
    "        way = str(theme) + \"/\" + str(block)\n",
    "        infoBlocks[way] = hashlib.sha256(block_item.encode('utf-8')).hexdigest()\n",
    "\n",
    "flipped = {}\n",
    "for key, value in infoBlocks.items():\n",
    "    if value not in flipped:\n",
    "        flipped[value] = [key]\n",
    "    else:\n",
    "        flipped[value].append(key)\n",
    "\n",
    "res_hash = []\n",
    "count = 0\n",
    "for hs in flipped:\n",
    "    if len(flipped[hs])>1:\n",
    "        count += 1\n",
    "        res_hash += [flipped[hs]]\n",
    "\n",
    "\n",
    "print('total = {}'.format(len(res_hash)))\n",
    "# # dd(res_hash)\n",
    "# df_new.head()"
   ]
  },
  {
   "cell_type": "code",
   "execution_count": null,
   "metadata": {},
   "outputs": [],
   "source": []
  },
  {
   "cell_type": "code",
   "execution_count": 16,
   "metadata": {},
   "outputs": [
    {
     "name": "stdout",
     "output_type": "stream",
     "text": [
      "numarul total : 27\n"
     ]
    }
   ],
   "source": [
    "import math\n",
    "\n",
    "name_blocks0 = []\n",
    "name_blocks1 = []\n",
    "\n",
    "dist = []\n",
    "coincidence = []\n",
    "coincidence_per_dot = []\n",
    "no_coincidence = []\n",
    "\n",
    "pp = ['x_orig','y_orig', 'x_end', 'y_end']\n",
    "\n",
    "for pare in res_hash:\n",
    "    if len(pare) == 2:\n",
    "        name_blocks0 += [pare[0]]\n",
    "        way0 = pare[0].split('/')\n",
    "        theme0 = way0[0]\n",
    "        block0 = way0[1]\n",
    "\n",
    "        name_blocks1 += [pare[1]]\n",
    "        way1 = pare[1].split('/')\n",
    "        theme1 = way1[0]\n",
    "        block1 = way1[1]\n",
    "\n",
    "        cond_0 =  (df['theme']==theme0) & (df['block']== block0)\n",
    "        cond_1 =  (df['theme']==theme1) & (df['block']== block1)\n",
    "\n",
    "        data0 = df.loc[cond_0, pp ]\n",
    "        data1 = df.loc[cond_1, pp ]\n",
    "\n",
    "        d = (((np.array(data0['x_orig']) - np.array(data1['x_orig']))**2 + (np.array(data0['y_end']) - np.array(data1['y_end']))**2).sum())**0.5\n",
    "        dist += [round(d, 1)]\n",
    "\n",
    "        cnd = (data0.reset_index(drop=True) == data1.reset_index(drop=True)).to_numpy()\n",
    "        cnd = np.concatenate(cnd)\n",
    "        cnd_s = cnd.sum()\n",
    "        cnd_c = len(cnd)\n",
    "        dif_c_s = cnd_c-cnd_s\n",
    "        no_coincidence += [dif_c_s]\n",
    "\n",
    "        coincidence += [round(100*cnd_s/cnd_c, 1)]\n",
    "        if dif_c_s != 0:\n",
    "            coincidence_per_dot += [round(d/dif_c_s, 1)]\n",
    "        else:\n",
    "            coincidence_per_dot += ['-']\n",
    "\n",
    "    else:\n",
    "        print('in acest set sunt mai multe blockuri decit 2 :\\n', pare)\n",
    "\n",
    "df_res = pd.DataFrame ({'name_block 0' : name_blocks0, 'name_block 1' : name_blocks1, 'total diff coord' : dist, 'mean diff coord per param' : coincidence_per_dot, \n",
    "                       'no_coincidence' : no_coincidence,  'coincidence %' : coincidence} )\n",
    "\n",
    "# for index, elem in df_res.iterrows():\n",
    "#     print(elem)\n",
    "\n",
    "df_res = df_res.sort_values(by=[ 'coincidence %', 'mean diff coord per param','total diff coord'])\n",
    "print('numarul total : {}'.format(len(df_res)))\n",
    "df_res.head(50)\n",
    "df_res.to_csv('list 0 - 27 - 27 buc.csv', index=False)"
   ]
  },
  {
   "cell_type": "code",
   "execution_count": 11,
   "metadata": {},
   "outputs": [
    {
     "name": "stdout",
     "output_type": "stream",
     "text": [
      "end code ...\n"
     ]
    }
   ],
   "source": [
    "import subprocess\n",
    "\n",
    "path = 'same_blocks'\n",
    "mkdir(path)\n",
    "\n",
    "i = 1\n",
    "for blocks in res_hash:\n",
    "    way = path + '/' + str(i)\n",
    "    mkdir(way)\n",
    "    if len(blocks) == 2:\n",
    "\n",
    "        for blk in blocks:\n",
    "            src = '/'.join(['blocks', blk])\n",
    "            src = src.replace(\"__\", \",_\")\n",
    "\n",
    "            blk_dst = blk.split('/')\n",
    "            blk_dst = '---'.join(blk_dst)\n",
    "            blk_dst = blk_dst.replace(\"__\", \",_\")\n",
    "\n",
    "\n",
    "            dst = '/'.join([way, blk_dst])\n",
    "            command = 'cp {} {}'.format(src, dst)\n",
    "\n",
    "            subprocess.call(command, shell=True)\n",
    "\n",
    "    i += 1\n",
    "    \n",
    "print('end code ...')\n"
   ]
  },
  {
   "cell_type": "code",
   "execution_count": null,
   "metadata": {
    "tags": []
   },
   "outputs": [],
   "source": []
  },
  {
   "cell_type": "code",
   "execution_count": null,
   "metadata": {},
   "outputs": [],
   "source": []
  },
  {
   "cell_type": "code",
   "execution_count": null,
   "metadata": {},
   "outputs": [],
   "source": []
  },
  {
   "cell_type": "code",
   "execution_count": null,
   "metadata": {},
   "outputs": [],
   "source": []
  },
  {
   "cell_type": "code",
   "execution_count": null,
   "metadata": {},
   "outputs": [],
   "source": [
    "type_uniq = [ele for ele in df['type'].unique()]\n",
    "cond_1 = (df['block']=='71_links.json')  & (df['theme']=='verso-local-blocks')\n",
    "cond_2 = (df['block']=='2_images_with_text_left_and_text_with_call_to_action_right.json')  & (df['theme']=='verso-blocks')\n",
    "\n",
    "\n",
    "da = df.loc[cond_1 | cond_2, params_uniq + ['theme','block']]\n",
    "da.head(50)"
   ]
  },
  {
   "cell_type": "code",
   "execution_count": 10,
   "metadata": {},
   "outputs": [
    {
     "name": "stdout",
     "output_type": "stream",
     "text": [
      "      x_orig  y_orig   x_end  y_end\n",
      "4426   853.0   568.0  1043.0  618.0\n",
      "4427   293.0    79.0   713.0  700.0\n",
      "4428    90.0   401.0   230.0  608.0\n",
      "4429   853.0   397.0  1098.0  509.0\n",
      "4430   853.0   200.0  1098.0  344.0\n",
      "4431    90.0   200.0   230.0  280.0\n",
      "4432    90.0   161.0   153.0  205.0 \n",
      "\n",
      "       x_orig  y_orig   x_end  y_end\n",
      "7499   853.0   568.0  1043.0  618.0\n",
      "7500   280.0    79.0   713.0  700.0\n",
      "7501    90.0   401.0   230.0  608.0\n",
      "7502   853.0   397.0  1098.0  509.0\n",
      "7503   853.0   200.0  1098.0  344.0\n",
      "7504    90.0   200.0   230.0  280.0\n",
      "7505    90.0   161.0   153.0  205.0\n"
     ]
    },
    {
     "data": {
      "text/html": [
       "<div>\n",
       "<style scoped>\n",
       "    .dataframe tbody tr th:only-of-type {\n",
       "        vertical-align: middle;\n",
       "    }\n",
       "\n",
       "    .dataframe tbody tr th {\n",
       "        vertical-align: top;\n",
       "    }\n",
       "\n",
       "    .dataframe thead th {\n",
       "        text-align: right;\n",
       "    }\n",
       "</style>\n",
       "<table border=\"1\" class=\"dataframe\">\n",
       "  <thead>\n",
       "    <tr style=\"text-align: right;\">\n",
       "      <th></th>\n",
       "      <th>name_block</th>\n",
       "      <th>diff_coord</th>\n",
       "      <th>coincidence %</th>\n",
       "    </tr>\n",
       "  </thead>\n",
       "  <tbody>\n",
       "    <tr>\n",
       "      <th>0</th>\n",
       "      <td>71_links.json $$$ 2_images_with_text_left_and_...</td>\n",
       "      <td>13.0</td>\n",
       "      <td>96.4</td>\n",
       "    </tr>\n",
       "  </tbody>\n",
       "</table>\n",
       "</div>"
      ],
      "text/plain": [
       "                                          name_block  diff_coord  \\\n",
       "0  71_links.json $$$ 2_images_with_text_left_and_...        13.0   \n",
       "\n",
       "   coincidence %  \n",
       "0           96.4  "
      ]
     },
     "execution_count": 10,
     "metadata": {},
     "output_type": "execute_result"
    }
   ],
   "source": [
    "cond_0 = (df['theme']=='verso-local-blocks') & (df['block']=='71_links.json')  \n",
    "cond_1 = (df['theme']=='verso-blocks') & (df['block']=='2_images_with_text_left_and_text_with_call_to_action_right.json')\n",
    "\n",
    "name_blocks = ['71_links.json $$$ 2_images_with_text_left_and_text_with_call_to_action_right.json']\n",
    "pp = ['x_orig','y_orig', 'x_end', 'y_end']\n",
    "data0 = df.loc[cond_0, pp ]\n",
    "data1 = df.loc[cond_1, pp ]\n",
    "\n",
    "dist = []\n",
    "coincidence = []\n",
    "\n",
    "\n",
    "print(data0, '\\n\\n',data1)\n",
    "\n",
    "d = (((np.array(data0['x_orig']) - np.array(data1['x_orig']))**2 + (np.array(data0['y_end']) - np.array(data1['y_end']))**2).sum())**0.5\n",
    "dist += [d]\n",
    "\n",
    "# print(dist)\n",
    "dim_df = len(data0)*len(params_uniq)\n",
    "cnd = (data0.reset_index(drop=True) == data1.reset_index(drop=True)).to_numpy()\n",
    "\n",
    "cnd = np.concatenate(cnd)\n",
    "cnd_s = cnd.sum()\n",
    "cnd_c = len(cnd)\n",
    "\n",
    "# print(cnd_s, cnd_c)\n",
    "\n",
    "coincidence += [round(100*cnd_s/cnd_c, 1)]\n",
    "\n",
    "df_fe = pd.DataFrame({'name_block' : name_blocks, 'diff_coord' : dist, 'coincidence %' : coincidence} )\n",
    "\n",
    "df_fe.head()"
   ]
  },
  {
   "cell_type": "code",
   "execution_count": null,
   "metadata": {},
   "outputs": [],
   "source": []
  },
  {
   "cell_type": "code",
   "execution_count": null,
   "metadata": {},
   "outputs": [],
   "source": []
  },
  {
   "cell_type": "code",
   "execution_count": null,
   "metadata": {
    "tags": []
   },
   "outputs": [],
   "source": []
  },
  {
   "cell_type": "code",
   "execution_count": null,
   "metadata": {},
   "outputs": [],
   "source": []
  },
  {
   "cell_type": "code",
   "execution_count": null,
   "metadata": {
    "tags": []
   },
   "outputs": [],
   "source": []
  },
  {
   "cell_type": "code",
   "execution_count": null,
   "metadata": {},
   "outputs": [],
   "source": []
  },
  {
   "cell_type": "code",
   "execution_count": null,
   "metadata": {},
   "outputs": [],
   "source": []
  },
  {
   "cell_type": "code",
   "execution_count": null,
   "metadata": {},
   "outputs": [],
   "source": []
  },
  {
   "cell_type": "code",
   "execution_count": null,
   "metadata": {},
   "outputs": [],
   "source": []
  },
  {
   "cell_type": "code",
   "execution_count": null,
   "metadata": {},
   "outputs": [],
   "source": []
  }
 ],
 "metadata": {
  "kernelspec": {
   "display_name": "Python 3",
   "language": "python",
   "name": "python3"
  },
  "language_info": {
   "codemirror_mode": {
    "name": "ipython",
    "version": 3
   },
   "file_extension": ".py",
   "mimetype": "text/x-python",
   "name": "python",
   "nbconvert_exporter": "python",
   "pygments_lexer": "ipython3",
   "version": "3.8.8"
  }
 },
 "nbformat": 4,
 "nbformat_minor": 4
}
