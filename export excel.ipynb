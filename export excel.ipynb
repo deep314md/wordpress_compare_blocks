{
 "cells": [
  {
   "cell_type": "code",
   "execution_count": 15,
   "id": "aef02221-8f0e-438d-9684-03739e337fa3",
   "metadata": {},
   "outputs": [],
   "source": [
    "import pandas as pd\n",
    "\n",
    "\n",
    "df = pd.read_excel('data_aproxim.xlsx')\n",
    "df = df.sort_values(['com_elem','percent_1'], ascending=False)\n",
    "\n",
    "# df[:10]\n",
    "df.to_excel('aproxim.xlsx', engine='xlsxwriter', index=False)  \n"
   ]
  },
  {
   "cell_type": "code",
   "execution_count": null,
   "id": "3f9e53cc-785c-47ae-a7bb-23aee264e7e4",
   "metadata": {},
   "outputs": [],
   "source": []
  }
 ],
 "metadata": {
  "kernelspec": {
   "display_name": "Python 3",
   "language": "python",
   "name": "python3"
  },
  "language_info": {
   "codemirror_mode": {
    "name": "ipython",
    "version": 3
   },
   "file_extension": ".py",
   "mimetype": "text/x-python",
   "name": "python",
   "nbconvert_exporter": "python",
   "pygments_lexer": "ipython3",
   "version": "3.8.8"
  }
 },
 "nbformat": 4,
 "nbformat_minor": 5
}
